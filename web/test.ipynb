{
 "metadata": {
  "language_info": {
   "codemirror_mode": {
    "name": "ipython",
    "version": 3
   },
   "file_extension": ".py",
   "mimetype": "text/x-python",
   "name": "python",
   "nbconvert_exporter": "python",
   "pygments_lexer": "ipython3",
   "version": "3.7.4-final"
  },
  "orig_nbformat": 2,
  "kernelspec": {
   "name": "Python 3.7.4 32-bit",
   "display_name": "Python 3.7.4 32-bit",
   "metadata": {
    "interpreter": {
     "hash": "c9885c51f92cdceccb23931dc776c01e8a4b338b4998ec14899e3a3372345a87"
    }
   }
  }
 },
 "nbformat": 4,
 "nbformat_minor": 2,
 "cells": [
  {
   "source": [
    "import requests\n",
    "import pandas as pd\n",
    "\n",
    "import matplotlib\n",
    "matplotlib.use('Agg')\n",
    "import matplotlib.pyplot as plt\n",
    "\n",
    "from FTX.client import Client\n",
    "\n",
    "from flask import Flask, request, abort, render_template\n",
    "\n",
    "from pandas.plotting import parallel_coordinates, table\n",
    "\n",
    "# Pandas 設定\n",
    "pd.set_option('display.max_columns', None)\n",
    "pd.set_option('display.max_rows', None)\n",
    "pd.set_option('max_colwidth',100)\n",
    "pd.set_option('display.width', 5000)\n",
    "pd.set_option('display.unicode.ambiguous_as_wide', True)\n",
    "pd.set_option('display.unicode.east_asian_width', True)\n",
    "\n",
    "client = Client('', '')\n",
    "print (pd.DataFrame(client.get_public_all_perpetual_futures()).name)"
   ],
   "cell_type": "code",
   "metadata": {
    "tags": []
   },
   "execution_count": 7,
   "outputs": [
    {
     "output_type": "stream",
     "name": "stdout",
     "text": "0         ADA-PERP\n1        ALGO-PERP\n2         ALT-PERP\n3        AMPL-PERP\n4        ATOM-PERP\n5        AVAX-PERP\n6         BAL-PERP\n7         BCH-PERP\n8         BNB-PERP\n9         BRZ-PERP\n10        BSV-PERP\n11        BTC-PERP\n12       BTMX-PERP\n13       COMP-PERP\n14      CREAM-PERP\n15      CUSDT-PERP\n16       DEFI-PERP\n17        DMG-PERP\n18       DOGE-PERP\n19        DOT-PERP\n20       DRGN-PERP\n21        EOS-PERP\n22        ETC-PERP\n23        ETH-PERP\n24       EXCH-PERP\n25        FLM-PERP\n26        HNT-PERP\n27         HT-PERP\n28        KNC-PERP\n29       LEND-PERP\n30        LEO-PERP\n31       LINK-PERP\n32        LTC-PERP\n33      MATIC-PERP\n34        MID-PERP\n35        MKR-PERP\n36        MTA-PERP\n37        NEO-PERP\n38        OKB-PERP\n39        OMG-PERP\n40       PAXG-PERP\n41       PRIV-PERP\n42       RUNE-PERP\n43       SHIT-PERP\n44        SOL-PERP\n45      SUSHI-PERP\n46        SXP-PERP\n47      THETA-PERP\n48       TOMO-PERP\n49        TRX-PERP\n50       TRYB-PERP\n51        UNI-PERP\n52    UNISWAP-PERP\n53       USDT-PERP\n54        VET-PERP\n55       XAUT-PERP\n56        XRP-PERP\n57        XTZ-PERP\n58        YFI-PERP\n59        ZEC-PERP\nName: name, dtype: object\n"
    }
   ]
  },
  {
   "cell_type": "code",
   "execution_count": null,
   "metadata": {},
   "outputs": [],
   "source": []
  }
 ]
}